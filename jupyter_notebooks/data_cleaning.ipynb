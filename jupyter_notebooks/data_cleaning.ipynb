{
  "cells": [
    {
      "cell_type": "markdown",
      "metadata": {
        "id": "0aStgWSO0E0E"
      },
      "source": [
        "# **This notebook is for data cleaning**"
      ]
    },
    {
      "cell_type": "markdown",
      "metadata": {
        "id": "1eLEkw5O0ECa"
      },
      "source": [
        "## Objectives\n",
        "\n",
        "* Write your notebook objective here, for example, \"Fetch data from Kaggle and save as raw data\", or \"engineer features for modelling\"\n",
        "\n",
        "## Inputs\n",
        "\n",
        "* Write down which data or information you need to run the notebook \n",
        "\n",
        "## Outputs\n",
        "\n",
        "* Write here which files, code or artefacts you generate by the end of the notebook \n",
        "\n",
        "## Additional Comments\n",
        "\n",
        "* If you have any additional comments that don't fit in the previous bullets, please state them here. \n",
        "\n"
      ]
    },
    {
      "cell_type": "markdown",
      "metadata": {
        "id": "9uWZXH9LwoQg"
      },
      "source": [
        "---"
      ]
    },
    {
      "cell_type": "markdown",
      "metadata": {
        "id": "cqP-UeN-z3i2"
      },
      "source": [
        "# Change working directory"
      ]
    },
    {
      "cell_type": "markdown",
      "metadata": {},
      "source": [
        "* We are assuming you will store the notebooks in a subfolder, therefore when running the notebook in the editor, you will need to change the working directory"
      ]
    },
    {
      "cell_type": "markdown",
      "metadata": {
        "id": "aOGIGS-uz3i2"
      },
      "source": [
        "We need to change the working directory from its current folder to its parent folder\n",
        "* We access the current directory with os.getcwd()"
      ]
    },
    {
      "cell_type": "code",
      "execution_count": 1,
      "metadata": {
        "id": "wZfF_j-Bz3i4",
        "outputId": "66943449-1436-4c3d-85c7-b85f9f78349b"
      },
      "outputs": [
        {
          "data": {
            "text/plain": [
              "'c:\\\\Users\\\\rayaf\\\\OneDrive\\\\Documents\\\\online-cart\\\\ecommerce_retail\\\\jupyter_notebooks'"
            ]
          },
          "execution_count": 1,
          "metadata": {},
          "output_type": "execute_result"
        }
      ],
      "source": [
        "import os\n",
        "current_dir = os.getcwd()\n",
        "current_dir"
      ]
    },
    {
      "cell_type": "markdown",
      "metadata": {
        "id": "9MWW8E7lz3i7"
      },
      "source": [
        "We want to make the parent of the current directory the new current directory\n",
        "* os.path.dirname() gets the parent directory\n",
        "* os.chir() defines the new current directory"
      ]
    },
    {
      "cell_type": "code",
      "execution_count": 2,
      "metadata": {
        "id": "TwHsQRWjz3i9",
        "outputId": "86849db3-cd2f-4cc5-ebb8-2d0caafa1a2c"
      },
      "outputs": [
        {
          "name": "stdout",
          "output_type": "stream",
          "text": [
            "You set a new current directory\n"
          ]
        }
      ],
      "source": [
        "os.chdir(os.path.dirname(current_dir))\n",
        "print(\"You set a new current directory\")"
      ]
    },
    {
      "cell_type": "markdown",
      "metadata": {
        "id": "M_xPk_Ijz3i-"
      },
      "source": [
        "Confirm the new current directory"
      ]
    },
    {
      "cell_type": "code",
      "execution_count": 3,
      "metadata": {
        "id": "vz3S-_kjz3jA",
        "outputId": "00b79ae4-75d0-4a96-d193-ac9ef9847ea2"
      },
      "outputs": [
        {
          "data": {
            "text/plain": [
              "'c:\\\\Users\\\\rayaf\\\\OneDrive\\\\Documents\\\\online-cart\\\\ecommerce_retail'"
            ]
          },
          "execution_count": 3,
          "metadata": {},
          "output_type": "execute_result"
        }
      ],
      "source": [
        "current_dir = os.getcwd()\n",
        "current_dir"
      ]
    },
    {
      "cell_type": "markdown",
      "metadata": {
        "id": "-mavJ8DibrcQ"
      },
      "source": [
        "# Section 1"
      ]
    },
    {
      "cell_type": "markdown",
      "metadata": {},
      "source": [
        "Section 1 content"
      ]
    },
    {
      "cell_type": "code",
      "execution_count": 5,
      "metadata": {},
      "outputs": [],
      "source": [
        "import pandas as pd"
      ]
    },
    {
      "cell_type": "code",
      "execution_count": 6,
      "metadata": {},
      "outputs": [
        {
          "data": {
            "text/html": [
              "<div>\n",
              "<style scoped>\n",
              "    .dataframe tbody tr th:only-of-type {\n",
              "        vertical-align: middle;\n",
              "    }\n",
              "\n",
              "    .dataframe tbody tr th {\n",
              "        vertical-align: top;\n",
              "    }\n",
              "\n",
              "    .dataframe thead th {\n",
              "        text-align: right;\n",
              "    }\n",
              "</style>\n",
              "<table border=\"1\" class=\"dataframe\">\n",
              "  <thead>\n",
              "    <tr style=\"text-align: right;\">\n",
              "      <th></th>\n",
              "      <th>User_ID</th>\n",
              "      <th>Product_ID</th>\n",
              "      <th>Category</th>\n",
              "      <th>Price (Rs.)</th>\n",
              "      <th>Discount (%)</th>\n",
              "      <th>Final_Price(Rs.)</th>\n",
              "      <th>Payment_Method</th>\n",
              "      <th>Purchase_Date</th>\n",
              "    </tr>\n",
              "  </thead>\n",
              "  <tbody>\n",
              "    <tr>\n",
              "      <th>0</th>\n",
              "      <td>337c166f</td>\n",
              "      <td>f414122f-e</td>\n",
              "      <td>Sports</td>\n",
              "      <td>36.53</td>\n",
              "      <td>15</td>\n",
              "      <td>31.05</td>\n",
              "      <td>Net Banking</td>\n",
              "      <td>12-11-2024</td>\n",
              "    </tr>\n",
              "    <tr>\n",
              "      <th>1</th>\n",
              "      <td>d38a19bf</td>\n",
              "      <td>fde50f9c-5</td>\n",
              "      <td>Clothing</td>\n",
              "      <td>232.79</td>\n",
              "      <td>20</td>\n",
              "      <td>186.23</td>\n",
              "      <td>Net Banking</td>\n",
              "      <td>09-02-2024</td>\n",
              "    </tr>\n",
              "    <tr>\n",
              "      <th>2</th>\n",
              "      <td>d7f5f0b0</td>\n",
              "      <td>0d96fc90-3</td>\n",
              "      <td>Sports</td>\n",
              "      <td>317.02</td>\n",
              "      <td>25</td>\n",
              "      <td>237.76</td>\n",
              "      <td>Credit Card</td>\n",
              "      <td>01-09-2024</td>\n",
              "    </tr>\n",
              "    <tr>\n",
              "      <th>3</th>\n",
              "      <td>395d4994</td>\n",
              "      <td>964fc44b-d</td>\n",
              "      <td>Toys</td>\n",
              "      <td>173.19</td>\n",
              "      <td>25</td>\n",
              "      <td>129.89</td>\n",
              "      <td>UPI</td>\n",
              "      <td>01-04-2024</td>\n",
              "    </tr>\n",
              "    <tr>\n",
              "      <th>4</th>\n",
              "      <td>a83c145c</td>\n",
              "      <td>d70e2fc6-e</td>\n",
              "      <td>Beauty</td>\n",
              "      <td>244.80</td>\n",
              "      <td>20</td>\n",
              "      <td>195.84</td>\n",
              "      <td>Net Banking</td>\n",
              "      <td>27-09-2024</td>\n",
              "    </tr>\n",
              "  </tbody>\n",
              "</table>\n",
              "</div>"
            ],
            "text/plain": [
              "    User_ID  Product_ID  Category  Price (Rs.)  Discount (%)  \\\n",
              "0  337c166f  f414122f-e    Sports        36.53            15   \n",
              "1  d38a19bf  fde50f9c-5  Clothing       232.79            20   \n",
              "2  d7f5f0b0  0d96fc90-3    Sports       317.02            25   \n",
              "3  395d4994  964fc44b-d      Toys       173.19            25   \n",
              "4  a83c145c  d70e2fc6-e    Beauty       244.80            20   \n",
              "\n",
              "   Final_Price(Rs.) Payment_Method Purchase_Date  \n",
              "0             31.05    Net Banking    12-11-2024  \n",
              "1            186.23    Net Banking    09-02-2024  \n",
              "2            237.76    Credit Card    01-09-2024  \n",
              "3            129.89            UPI    01-04-2024  \n",
              "4            195.84    Net Banking    27-09-2024  "
            ]
          },
          "execution_count": 6,
          "metadata": {},
          "output_type": "execute_result"
        }
      ],
      "source": [
        "df = pd.read_csv('../ecommerce_retail/data/raw_data/ecommerce_dataset_updated.csv')\n",
        "df.head()"
      ]
    },
    {
      "cell_type": "markdown",
      "metadata": {
        "id": "ZY3l0-AxO93d"
      },
      "source": [
        "---"
      ]
    },
    {
      "cell_type": "code",
      "execution_count": 7,
      "metadata": {},
      "outputs": [
        {
          "name": "stdout",
          "output_type": "stream",
          "text": [
            "<class 'pandas.core.frame.DataFrame'>\n",
            "RangeIndex: 3660 entries, 0 to 3659\n",
            "Data columns (total 8 columns):\n",
            " #   Column            Non-Null Count  Dtype  \n",
            "---  ------            --------------  -----  \n",
            " 0   User_ID           3660 non-null   object \n",
            " 1   Product_ID        3660 non-null   object \n",
            " 2   Category          3660 non-null   object \n",
            " 3   Price (Rs.)       3660 non-null   float64\n",
            " 4   Discount (%)      3660 non-null   int64  \n",
            " 5   Final_Price(Rs.)  3660 non-null   float64\n",
            " 6   Payment_Method    3660 non-null   object \n",
            " 7   Purchase_Date     3660 non-null   object \n",
            "dtypes: float64(2), int64(1), object(5)\n",
            "memory usage: 228.9+ KB\n"
          ]
        }
      ],
      "source": [
        "df.info()"
      ]
    },
    {
      "cell_type": "code",
      "execution_count": 8,
      "metadata": {},
      "outputs": [
        {
          "data": {
            "text/plain": [
              "User_ID             0\n",
              "Product_ID          0\n",
              "Category            0\n",
              "Price (Rs.)         0\n",
              "Discount (%)        0\n",
              "Final_Price(Rs.)    0\n",
              "Payment_Method      0\n",
              "Purchase_Date       0\n",
              "dtype: int64"
            ]
          },
          "execution_count": 8,
          "metadata": {},
          "output_type": "execute_result"
        }
      ],
      "source": [
        "df.isnull().sum()"
      ]
    },
    {
      "cell_type": "code",
      "execution_count": 9,
      "metadata": {},
      "outputs": [
        {
          "data": {
            "text/html": [
              "<div>\n",
              "<style scoped>\n",
              "    .dataframe tbody tr th:only-of-type {\n",
              "        vertical-align: middle;\n",
              "    }\n",
              "\n",
              "    .dataframe tbody tr th {\n",
              "        vertical-align: top;\n",
              "    }\n",
              "\n",
              "    .dataframe thead th {\n",
              "        text-align: right;\n",
              "    }\n",
              "</style>\n",
              "<table border=\"1\" class=\"dataframe\">\n",
              "  <thead>\n",
              "    <tr style=\"text-align: right;\">\n",
              "      <th></th>\n",
              "      <th>Price (Rs.)</th>\n",
              "      <th>Discount (%)</th>\n",
              "      <th>Final_Price(Rs.)</th>\n",
              "    </tr>\n",
              "  </thead>\n",
              "  <tbody>\n",
              "    <tr>\n",
              "      <th>count</th>\n",
              "      <td>3660.000000</td>\n",
              "      <td>3660.000000</td>\n",
              "      <td>3660.000000</td>\n",
              "    </tr>\n",
              "    <tr>\n",
              "      <th>mean</th>\n",
              "      <td>254.800675</td>\n",
              "      <td>18.825137</td>\n",
              "      <td>206.906579</td>\n",
              "    </tr>\n",
              "    <tr>\n",
              "      <th>std</th>\n",
              "      <td>141.682621</td>\n",
              "      <td>14.731338</td>\n",
              "      <td>122.687844</td>\n",
              "    </tr>\n",
              "    <tr>\n",
              "      <th>min</th>\n",
              "      <td>10.090000</td>\n",
              "      <td>0.000000</td>\n",
              "      <td>5.890000</td>\n",
              "    </tr>\n",
              "    <tr>\n",
              "      <th>25%</th>\n",
              "      <td>134.012500</td>\n",
              "      <td>5.000000</td>\n",
              "      <td>104.512500</td>\n",
              "    </tr>\n",
              "    <tr>\n",
              "      <th>50%</th>\n",
              "      <td>253.845000</td>\n",
              "      <td>15.000000</td>\n",
              "      <td>199.185000</td>\n",
              "    </tr>\n",
              "    <tr>\n",
              "      <th>75%</th>\n",
              "      <td>377.595000</td>\n",
              "      <td>25.000000</td>\n",
              "      <td>304.117500</td>\n",
              "    </tr>\n",
              "    <tr>\n",
              "      <th>max</th>\n",
              "      <td>499.960000</td>\n",
              "      <td>50.000000</td>\n",
              "      <td>496.820000</td>\n",
              "    </tr>\n",
              "  </tbody>\n",
              "</table>\n",
              "</div>"
            ],
            "text/plain": [
              "       Price (Rs.)  Discount (%)  Final_Price(Rs.)\n",
              "count  3660.000000   3660.000000       3660.000000\n",
              "mean    254.800675     18.825137        206.906579\n",
              "std     141.682621     14.731338        122.687844\n",
              "min      10.090000      0.000000          5.890000\n",
              "25%     134.012500      5.000000        104.512500\n",
              "50%     253.845000     15.000000        199.185000\n",
              "75%     377.595000     25.000000        304.117500\n",
              "max     499.960000     50.000000        496.820000"
            ]
          },
          "execution_count": 9,
          "metadata": {},
          "output_type": "execute_result"
        }
      ],
      "source": [
        "df.describe()"
      ]
    },
    {
      "cell_type": "code",
      "execution_count": 10,
      "metadata": {},
      "outputs": [
        {
          "data": {
            "text/html": [
              "<div>\n",
              "<style scoped>\n",
              "    .dataframe tbody tr th:only-of-type {\n",
              "        vertical-align: middle;\n",
              "    }\n",
              "\n",
              "    .dataframe tbody tr th {\n",
              "        vertical-align: top;\n",
              "    }\n",
              "\n",
              "    .dataframe thead th {\n",
              "        text-align: right;\n",
              "    }\n",
              "</style>\n",
              "<table border=\"1\" class=\"dataframe\">\n",
              "  <thead>\n",
              "    <tr style=\"text-align: right;\">\n",
              "      <th></th>\n",
              "      <th>User_ID</th>\n",
              "      <th>Product_ID</th>\n",
              "      <th>Category</th>\n",
              "      <th>Price (Rs.)</th>\n",
              "      <th>Discount (%)</th>\n",
              "      <th>Final_Price(Rs.)</th>\n",
              "      <th>Payment_Method</th>\n",
              "      <th>Purchase_Date</th>\n",
              "      <th>year</th>\n",
              "      <th>month</th>\n",
              "      <th>day</th>\n",
              "    </tr>\n",
              "  </thead>\n",
              "  <tbody>\n",
              "    <tr>\n",
              "      <th>0</th>\n",
              "      <td>337c166f</td>\n",
              "      <td>f414122f-e</td>\n",
              "      <td>Sports</td>\n",
              "      <td>36.53</td>\n",
              "      <td>15</td>\n",
              "      <td>31.05</td>\n",
              "      <td>Net Banking</td>\n",
              "      <td>2024-11-12</td>\n",
              "      <td>2024</td>\n",
              "      <td>11</td>\n",
              "      <td>12</td>\n",
              "    </tr>\n",
              "    <tr>\n",
              "      <th>1</th>\n",
              "      <td>d38a19bf</td>\n",
              "      <td>fde50f9c-5</td>\n",
              "      <td>Clothing</td>\n",
              "      <td>232.79</td>\n",
              "      <td>20</td>\n",
              "      <td>186.23</td>\n",
              "      <td>Net Banking</td>\n",
              "      <td>2024-02-09</td>\n",
              "      <td>2024</td>\n",
              "      <td>2</td>\n",
              "      <td>9</td>\n",
              "    </tr>\n",
              "    <tr>\n",
              "      <th>2</th>\n",
              "      <td>d7f5f0b0</td>\n",
              "      <td>0d96fc90-3</td>\n",
              "      <td>Sports</td>\n",
              "      <td>317.02</td>\n",
              "      <td>25</td>\n",
              "      <td>237.76</td>\n",
              "      <td>Credit Card</td>\n",
              "      <td>2024-09-01</td>\n",
              "      <td>2024</td>\n",
              "      <td>9</td>\n",
              "      <td>1</td>\n",
              "    </tr>\n",
              "    <tr>\n",
              "      <th>3</th>\n",
              "      <td>395d4994</td>\n",
              "      <td>964fc44b-d</td>\n",
              "      <td>Toys</td>\n",
              "      <td>173.19</td>\n",
              "      <td>25</td>\n",
              "      <td>129.89</td>\n",
              "      <td>UPI</td>\n",
              "      <td>2024-04-01</td>\n",
              "      <td>2024</td>\n",
              "      <td>4</td>\n",
              "      <td>1</td>\n",
              "    </tr>\n",
              "    <tr>\n",
              "      <th>4</th>\n",
              "      <td>a83c145c</td>\n",
              "      <td>d70e2fc6-e</td>\n",
              "      <td>Beauty</td>\n",
              "      <td>244.80</td>\n",
              "      <td>20</td>\n",
              "      <td>195.84</td>\n",
              "      <td>Net Banking</td>\n",
              "      <td>2024-09-27</td>\n",
              "      <td>2024</td>\n",
              "      <td>9</td>\n",
              "      <td>27</td>\n",
              "    </tr>\n",
              "  </tbody>\n",
              "</table>\n",
              "</div>"
            ],
            "text/plain": [
              "    User_ID  Product_ID  Category  Price (Rs.)  Discount (%)  \\\n",
              "0  337c166f  f414122f-e    Sports        36.53            15   \n",
              "1  d38a19bf  fde50f9c-5  Clothing       232.79            20   \n",
              "2  d7f5f0b0  0d96fc90-3    Sports       317.02            25   \n",
              "3  395d4994  964fc44b-d      Toys       173.19            25   \n",
              "4  a83c145c  d70e2fc6-e    Beauty       244.80            20   \n",
              "\n",
              "   Final_Price(Rs.) Payment_Method Purchase_Date  year  month  day  \n",
              "0             31.05    Net Banking    2024-11-12  2024     11   12  \n",
              "1            186.23    Net Banking    2024-02-09  2024      2    9  \n",
              "2            237.76    Credit Card    2024-09-01  2024      9    1  \n",
              "3            129.89            UPI    2024-04-01  2024      4    1  \n",
              "4            195.84    Net Banking    2024-09-27  2024      9   27  "
            ]
          },
          "execution_count": 10,
          "metadata": {},
          "output_type": "execute_result"
        }
      ],
      "source": [
        "df['Purchase_Date'] = pd.to_datetime(df['Purchase_Date'], dayfirst=True)\n",
        "df['year'] = df['Purchase_Date'].dt.year\n",
        "df['month'] = df['Purchase_Date'].dt.month  \n",
        "df['day'] = df['Purchase_Date'].dt.day\n",
        "df.head()"
      ]
    },
    {
      "cell_type": "code",
      "execution_count": 11,
      "metadata": {},
      "outputs": [],
      "source": [
        "df.to_csv('../ecommerce_retail/data/cleaned_data/ecommerce_dataset_cleaned.csv', index=False)"
      ]
    },
    {
      "cell_type": "markdown",
      "metadata": {
        "id": "uFQo3ycuO-v6"
      },
      "source": [
        "# Section 2"
      ]
    },
    {
      "cell_type": "markdown",
      "metadata": {},
      "source": [
        "Section 2 content"
      ]
    },
    {
      "cell_type": "code",
      "execution_count": null,
      "metadata": {},
      "outputs": [],
      "source": []
    },
    {
      "cell_type": "markdown",
      "metadata": {},
      "source": [
        "---"
      ]
    },
    {
      "cell_type": "markdown",
      "metadata": {},
      "source": [
        "NOTE"
      ]
    },
    {
      "cell_type": "markdown",
      "metadata": {},
      "source": [
        "* You may add as many sections as you want, as long as it supports your project workflow.\n",
        "* All notebook's cells should be run top-down (you can't create a dynamic wherein a given point you need to go back to a previous cell to execute some task, like go back to a previous cell and refresh a variable content)"
      ]
    },
    {
      "cell_type": "markdown",
      "metadata": {},
      "source": [
        "---"
      ]
    },
    {
      "cell_type": "markdown",
      "metadata": {
        "id": "ltNetd085qHf"
      },
      "source": [
        "# Push files to Repo"
      ]
    },
    {
      "cell_type": "markdown",
      "metadata": {},
      "source": [
        "* In cases where you don't need to push files to Repo, you may replace this section with \"Conclusions and Next Steps\" and state your conclusions and next steps."
      ]
    },
    {
      "cell_type": "code",
      "execution_count": 4,
      "metadata": {
        "id": "aKlnIozA4eQO",
        "outputId": "fd09bc1f-adb1-4511-f6ce-492a6af570c0"
      },
      "outputs": [
        {
          "ename": "IndentationError",
          "evalue": "expected an indented block after 'try' statement on line 2 (553063055.py, line 5)",
          "output_type": "error",
          "traceback": [
            "  \u001b[36mCell\u001b[39m\u001b[36m \u001b[39m\u001b[32mIn[4]\u001b[39m\u001b[32m, line 5\u001b[39m\n\u001b[31m    \u001b[39m\u001b[31mexcept Exception as e:\u001b[39m\n    ^\n\u001b[31mIndentationError\u001b[39m\u001b[31m:\u001b[39m expected an indented block after 'try' statement on line 2\n"
          ]
        }
      ],
      "source": [
        "import os\n",
        "try:\n",
        "  # create your folder here\n",
        "  # os.makedirs(name='')\n",
        "except Exception as e:\n",
        "  print(e)\n"
      ]
    }
  ],
  "metadata": {
    "accelerator": "GPU",
    "colab": {
      "name": "Data Practitioner Jupyter Notebook.ipynb",
      "provenance": [],
      "toc_visible": true
    },
    "kernelspec": {
      "display_name": "Python 3",
      "language": "python",
      "name": "python3"
    },
    "language_info": {
      "codemirror_mode": {
        "name": "ipython",
        "version": 3
      },
      "file_extension": ".py",
      "mimetype": "text/x-python",
      "name": "python",
      "nbconvert_exporter": "python",
      "pygments_lexer": "ipython3",
      "version": "3.12.8"
    },
    "orig_nbformat": 2
  },
  "nbformat": 4,
  "nbformat_minor": 2
}
